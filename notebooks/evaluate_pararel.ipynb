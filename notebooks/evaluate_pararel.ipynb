{
 "cells": [
  {
   "cell_type": "code",
   "execution_count": 1,
   "metadata": {},
   "outputs": [],
   "source": [
    "import pandas as pd\n",
    "import numpy as np"
   ]
  },
  {
   "cell_type": "code",
   "execution_count": 2,
   "metadata": {},
   "outputs": [],
   "source": [
    "def evaluate_results(path: str, is_double: bool = False):\n",
    "    df = pd.read_csv(path)\n",
    "    if is_double:\n",
    "        df = df.loc[df['lm'] == \"bert-base-cased\"]\n",
    "    lama_acc = df[~df['lama_acc'].isnull()]\n",
    "    print(f\"Mean accuracy for model on lama  (Accuracy) = {np.mean(list(lama_acc['lama_acc']))}\")\n",
    "    print(f\"Mean accuracy for model on group acc (Accuracy and Consistency) = {np.mean(list(lama_acc['lama_group_acc']))}\")\n",
    "    consistency_cased = df[~df['consistency'].isnull()]\n",
    "    print(f\"Mean consistency for model (Consistency) = {np.mean(list(consistency_cased['consistency']))}\")"
   ]
  },
  {
   "cell_type": "code",
   "execution_count": 3,
   "metadata": {},
   "outputs": [
    {
     "name": "stdout",
     "output_type": "stream",
     "text": [
      "Mean accuracy for model on lama  (Accuracy) = 0.4332079953315882\n",
      "Mean accuracy for model on group acc (Accuracy and Consistency) = 0.2551149925068226\n",
      "Mean consistency for model (Consistency) = 0.5759987308749208\n"
     ]
    }
   ],
   "source": [
    "# Model : bert base cased\n",
    "evaluate_results(\"../pararel_outputs/wandb_export_base_cased_and_uncased.csv\", True)"
   ]
  },
  {
   "cell_type": "code",
   "execution_count": 4,
   "metadata": {},
   "outputs": [
    {
     "name": "stdout",
     "output_type": "stream",
     "text": [
      "Mean accuracy for model on lama  (Accuracy) = 0.36594391161728684\n",
      "Mean accuracy for model on group acc (Accuracy and Consistency) = 0.16744857954201098\n",
      "Mean consistency for model (Consistency) = 0.5068819052369469\n"
     ]
    }
   ],
   "source": [
    "# Model : roberta base\n",
    "evaluate_results(\"../pararel_outputs/wandb_export_roberta_base.csv\")"
   ]
  },
  {
   "cell_type": "code",
   "execution_count": 6,
   "metadata": {},
   "outputs": [],
   "source": [
    "# Model: bert-base-cased with houlsby 100k\n",
    "evaluate_results()"
   ]
  }
 ],
 "metadata": {
  "kernelspec": {
   "display_name": "Python 3.7.7 64-bit",
   "language": "python",
   "name": "python37764bit1943f163d28f4bc9b7721f93b8953027"
  },
  "language_info": {
   "codemirror_mode": {
    "name": "ipython",
    "version": 3
   },
   "file_extension": ".py",
   "mimetype": "text/x-python",
   "name": "python",
   "nbconvert_exporter": "python",
   "pygments_lexer": "ipython3",
   "version": "3.7.7"
  }
 },
 "nbformat": 4,
 "nbformat_minor": 4
}
