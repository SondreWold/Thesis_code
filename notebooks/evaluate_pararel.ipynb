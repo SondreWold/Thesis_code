{
 "cells": [
  {
   "cell_type": "code",
   "execution_count": 1,
   "metadata": {},
   "outputs": [],
   "source": [
    "import pandas as pd\n",
    "import numpy as np"
   ]
  },
  {
   "cell_type": "code",
   "execution_count": 6,
   "metadata": {},
   "outputs": [],
   "source": [
    "df_base = pd.read_csv(\"../data/pararel_outputs/wandb_export_base_cased_and_uncased.csv\")"
   ]
  },
  {
   "cell_type": "code",
   "execution_count": 11,
   "metadata": {},
   "outputs": [],
   "source": [
    "df_cased = df_base.loc[df_base['lm'] == \"bert-base-cased\"]\n",
    "df_uncased = df_base.loc[df_base['lm'] == \"bert-base-uncased\"]"
   ]
  },
  {
   "cell_type": "code",
   "execution_count": 12,
   "metadata": {},
   "outputs": [],
   "source": [
    "consistency_cased = df_cased[~df_cased['consistency'].isnull()]\n",
    "consistency_uncased = df_uncased[~df_uncased['consistency'].isnull()]"
   ]
  },
  {
   "cell_type": "code",
   "execution_count": 17,
   "metadata": {
    "scrolled": true
   },
   "outputs": [
    {
     "name": "stdout",
     "output_type": "stream",
     "text": [
      "Mean consistency for bert-base-uncased = 0.839836225521638\n"
     ]
    }
   ],
   "source": [
    "print(f\"Mean consistency for bert-base-uncased = {np.mean(list(consistency_uncased['consistency']))}\")\n",
    "# This does not seem right... Original paper only states cased, so this might not be a problem. Anyways: do not report this "
   ]
  },
  {
   "cell_type": "code",
   "execution_count": 16,
   "metadata": {},
   "outputs": [
    {
     "name": "stdout",
     "output_type": "stream",
     "text": [
      "Mean consistency for bert-base-cased = 0.5759987308749208\n"
     ]
    }
   ],
   "source": [
    "print(f\"Mean consistency for bert-base-cased = {np.mean(list(consistency_cased['consistency']))}\")\n",
    "#Paper reports an average consistency for bert-base-cased of "
   ]
  }
 ],
 "metadata": {
  "kernelspec": {
   "display_name": "Python 3",
   "language": "python",
   "name": "python3"
  },
  "language_info": {
   "codemirror_mode": {
    "name": "ipython",
    "version": 3
   },
   "file_extension": ".py",
   "mimetype": "text/x-python",
   "name": "python",
   "nbconvert_exporter": "python",
   "pygments_lexer": "ipython3",
   "version": "3.7.1"
  }
 },
 "nbformat": 4,
 "nbformat_minor": 4
}
