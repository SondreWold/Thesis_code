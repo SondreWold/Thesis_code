{
 "cells": [
  {
   "cell_type": "code",
   "execution_count": 1,
   "metadata": {},
   "outputs": [],
   "source": [
    "import pandas as pd\n",
    "import numpy as np"
   ]
  },
  {
   "cell_type": "code",
   "execution_count": 2,
   "metadata": {},
   "outputs": [],
   "source": [
    "df_base = pd.read_csv(\"../data/pararel_outputs/wandb_export_base_cased_and_uncased.csv\")"
   ]
  },
  {
   "cell_type": "code",
   "execution_count": 3,
   "metadata": {},
   "outputs": [],
   "source": [
    "df_cased = df_base.loc[df_base['lm'] == \"bert-base-cased\"]\n",
    "df_uncased = df_base.loc[df_base['lm'] == \"bert-base-uncased\"]"
   ]
  },
  {
   "cell_type": "code",
   "execution_count": 7,
   "metadata": {},
   "outputs": [
    {
     "data": {
      "text/plain": [
       "Index(['Name', 'State', 'Tags', 'Runtime', 'Created', 'lm', 'pattern',\n",
       "       'avg_consistency_by_edge_out', 'avg_entropy', 'both_consistency',\n",
       "       'both_edges', 'consistency', 'consistent_subjects', 'group-unacc',\n",
       "       'knowledgable_consistency', 'lama_acc', 'lama_group_acc',\n",
       "       'lexical_consistency', 'lexical_edges', 'n_patterns',\n",
       "       'no_change_consistency', 'std_entropy', 'successful_patterns',\n",
       "       'successful_subjects', 'syntactic_consistency', 'syntactic_edges',\n",
       "       'total', 'total_both', 'total_lex', 'total_no', 'total_syn',\n",
       "       'unknowledgable_consistency'],\n",
       "      dtype='object')"
      ]
     },
     "execution_count": 7,
     "metadata": {},
     "output_type": "execute_result"
    }
   ],
   "source": [
    "df_uncased.columns"
   ]
  },
  {
   "cell_type": "code",
   "execution_count": 10,
   "metadata": {},
   "outputs": [
    {
     "name": "stdout",
     "output_type": "stream",
     "text": [
      "Mean consistency for bert-base-cased = 0.4332079953315882\n"
     ]
    }
   ],
   "source": [
    "lama_acc_cased = df_cased[~df_cased['lama_acc'].isnull()]\n",
    "print(f\"Mean accuracy for bert-base-cased = {np.mean(list(lama_acc_cased['lama_acc']))}\")"
   ]
  },
  {
   "cell_type": "code",
   "execution_count": 11,
   "metadata": {},
   "outputs": [
    {
     "name": "stdout",
     "output_type": "stream",
     "text": [
      "Mean accuracy for bert-base-cased = 0.2551149925068226\n"
     ]
    }
   ],
   "source": [
    "lama_group_acc_cased = df_cased[~df_cased['lama_acc'].isnull()]\n",
    "print(f\"Mean accuracy for bert-base-cased = {np.mean(list(lama_group_acc_cased['lama_group_acc']))}\")"
   ]
  },
  {
   "cell_type": "code",
   "execution_count": 9,
   "metadata": {},
   "outputs": [
    {
     "name": "stdout",
     "output_type": "stream",
     "text": [
      "Mean consistency for bert-base-cased = 0.5759987308749208\n"
     ]
    }
   ],
   "source": [
    "consistency_cased = df_cased[~df_cased['consistency'].isnull()]\n",
    "print(f\"Mean consistency for bert-base-cased = {np.mean(list(consistency_cased['consistency']))}\")"
   ]
  },
  {
   "cell_type": "code",
   "execution_count": null,
   "metadata": {},
   "outputs": [],
   "source": []
  }
 ],
 "metadata": {
  "kernelspec": {
   "display_name": "Python 3",
   "language": "python",
   "name": "python3"
  },
  "language_info": {
   "codemirror_mode": {
    "name": "ipython",
    "version": 3
   },
   "file_extension": ".py",
   "mimetype": "text/x-python",
   "name": "python",
   "nbconvert_exporter": "python",
   "pygments_lexer": "ipython3",
   "version": "3.7.1"
  }
 },
 "nbformat": 4,
 "nbformat_minor": 4
}
