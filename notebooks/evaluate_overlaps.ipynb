{
 "cells": [
  {
   "cell_type": "code",
   "execution_count": 1,
   "metadata": {},
   "outputs": [],
   "source": [
    "import pandas as pd\n",
    "import json\n",
    "from typing import List, Dict\n",
    "from tqdm import tqdm"
   ]
  },
  {
   "cell_type": "code",
   "execution_count": 2,
   "metadata": {},
   "outputs": [],
   "source": [
    "def read_jsonl_file(filename: str) -> List[Dict]:\n",
    "    dataset = []\n",
    "    with open(filename) as f:\n",
    "        for line in f:\n",
    "            loaded_example = json.loads(line)\n",
    "            dataset.append(loaded_example)\n",
    "\n",
    "    return dataset"
   ]
  },
  {
   "cell_type": "code",
   "execution_count": 147,
   "metadata": {},
   "outputs": [],
   "source": [
    "def get_corpus_objects(path):\n",
    "    y = []\n",
    "    with open(path, 'r') as inF:\n",
    "        for line in tqdm(inF):\n",
    "            x = line.split(\" \")[-1]\n",
    "            e = x[:len(x)-2].strip()\n",
    "            if(len(e)>1):\n",
    "                y.append(e.lower())\n",
    "    return y"
   ]
  },
  {
   "cell_type": "code",
   "execution_count": 148,
   "metadata": {},
   "outputs": [],
   "source": [
    "def get_lama_objects(path):\n",
    "    lama = read_jsonl_file(path)\n",
    "    result = []\n",
    "    for line in lama:\n",
    "        x = line[\"obj_label\"]\n",
    "        result.append(x.lower())\n",
    "    return result"
   ]
  },
  {
   "cell_type": "code",
   "execution_count": 149,
   "metadata": {},
   "outputs": [],
   "source": [
    "def get_diff(path_cn, path_corpus):\n",
    "    corpus = set(get_corpus_objects(path_corpus))\n",
    "    test_set = set(get_lama_objects(path_cn))\n",
    "    diff = corpus-test_set\n",
    "    x = len(corpus)-len(diff)\n",
    "    res = x/len(corpus)\n",
    "    print(res)\n",
    "    return res  "
   ]
  },
  {
   "cell_type": "code",
   "execution_count": 157,
   "metadata": {},
   "outputs": [
    {
     "name": "stderr",
     "output_type": "stream",
     "text": [
      "1768542it [00:01, 1002446.29it/s]\n"
     ]
    },
    {
     "name": "stdout",
     "output_type": "stream",
     "text": [
      "0.057746919209024826\n"
     ]
    }
   ],
   "source": [
    "res_lauscher_predicate_set = get_diff(\"../data/LAMA/data/ConceptNet/test.jsonl\",\"../data/concept_net/corpus.txt\")"
   ]
  },
  {
   "cell_type": "code",
   "execution_count": 158,
   "metadata": {},
   "outputs": [
    {
     "name": "stderr",
     "output_type": "stream",
     "text": [
      "599462it [00:00, 1081715.68it/s]\n"
     ]
    },
    {
     "name": "stdout",
     "output_type": "stream",
     "text": [
      "0.36761726663549943\n"
     ]
    }
   ],
   "source": [
    "res_our_predicate_set = get_diff(\"../data/LAMA/data/ConceptNet/test.jsonl\",\"../data/concept_net/lama_corpus_train.txt\")"
   ]
  },
  {
   "cell_type": "code",
   "execution_count": null,
   "metadata": {},
   "outputs": [],
   "source": []
  }
 ],
 "metadata": {
  "kernelspec": {
   "display_name": "Python 3.7.7 64-bit",
   "language": "python",
   "name": "python37764bit1943f163d28f4bc9b7721f93b8953027"
  },
  "language_info": {
   "codemirror_mode": {
    "name": "ipython",
    "version": 3
   },
   "file_extension": ".py",
   "mimetype": "text/x-python",
   "name": "python",
   "nbconvert_exporter": "python",
   "pygments_lexer": "ipython3",
   "version": "3.7.7"
  }
 },
 "nbformat": 4,
 "nbformat_minor": 4
}
