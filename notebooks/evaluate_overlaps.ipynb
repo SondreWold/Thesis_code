{
 "cells": [
  {
   "cell_type": "code",
   "execution_count": 6,
   "metadata": {},
   "outputs": [],
   "source": [
    "import pandas as pd\n",
    "import json\n",
    "from typing import List, Dict\n",
    "from tqdm import tqdm"
   ]
  },
  {
   "cell_type": "code",
   "execution_count": 7,
   "metadata": {},
   "outputs": [],
   "source": [
    "def read_jsonl_file(filename: str) -> List[Dict]:\n",
    "    dataset = []\n",
    "    with open(filename) as f:\n",
    "        for line in f:\n",
    "            loaded_example = json.loads(line)\n",
    "            dataset.append(loaded_example)\n",
    "\n",
    "    return dataset"
   ]
  },
  {
   "cell_type": "code",
   "execution_count": 8,
   "metadata": {},
   "outputs": [],
   "source": [
    "def get_world_knowledge_df():\n",
    "    df = pd.read_csv(\"../data/diagnostic_gold.tsv\", sep=\"\\t\")\n",
    "    knowledge = df[~df['Knowledge'].isnull()]\n",
    "    return knowledge[knowledge.Knowledge.str.contains('World',case=False)]"
   ]
  },
  {
   "cell_type": "code",
   "execution_count": 9,
   "metadata": {},
   "outputs": [],
   "source": [
    "df = get_world_knowledge_df()[[\"Knowledge\", \"Premise\", \"Hypothesis\"]]\n",
    "df.to_csv(\"./world_knowledge_dataframe.csv\")"
   ]
  },
  {
   "cell_type": "code",
   "execution_count": 23,
   "metadata": {},
   "outputs": [],
   "source": [
    "def search_for_string(checks):\n",
    "    with open('../data/concept_net/corpus.txt', 'r') as inF:\n",
    "        for line in tqdm(inF):\n",
    "            for ele in checks:\n",
    "                if ele.lower() + \" is a\" in line or ele.lower() + \".\" in line:\n",
    "                    print(line)"
   ]
  },
  {
   "cell_type": "code",
   "execution_count": 34,
   "metadata": {},
   "outputs": [
    {
     "name": "stderr",
     "output_type": "stream",
     "text": [
      "1768542it [00:01, 1457496.15it/s]\n"
     ]
    }
   ],
   "source": [
    "search_for_string([\"heterodont\"])"
   ]
  },
  {
   "cell_type": "code",
   "execution_count": 35,
   "metadata": {},
   "outputs": [],
   "source": [
    "LAMA_relations = [\n",
    "  \"atLocation\",\n",
    "  \"capableOf\",\n",
    "  \"causes\",\n",
    "  \"causesDesire\",\n",
    "  \"desires\",\n",
    "  \"hasA\",\n",
    "  \"hasPrerequisite\",\n",
    "  \"hasProperty\",\n",
    "  \"hasSubevent\",\n",
    "  \"isA\",\n",
    "  \"locatedNear\",\n",
    "  \"madeOf\",\n",
    "  \"motivatedByGoal\",\n",
    "  \"partOf\",\n",
    "  \"receivesAction\",\n",
    "  \"usedFor\"\n",
    "] "
   ]
  },
  {
   "cell_type": "code",
   "execution_count": 36,
   "metadata": {},
   "outputs": [],
   "source": [
    "s = \", \".join(LAMA_relations)"
   ]
  },
  {
   "cell_type": "code",
   "execution_count": 37,
   "metadata": {},
   "outputs": [
    {
     "data": {
      "text/plain": [
       "'atLocation, capableOf, causes, causesDesire, desires, hasA, hasPrerequisite, hasProperty, hasSubevent, isA, locatedNear, madeOf, motivatedByGoal, partOf, receivesAction, usedFor'"
      ]
     },
     "execution_count": 37,
     "metadata": {},
     "output_type": "execute_result"
    }
   ],
   "source": [
    "s"
   ]
  },
  {
   "cell_type": "code",
   "execution_count": null,
   "metadata": {},
   "outputs": [],
   "source": []
  }
 ],
 "metadata": {
  "kernelspec": {
   "display_name": "Python 3.7.7 64-bit",
   "language": "python",
   "name": "python37764bit1943f163d28f4bc9b7721f93b8953027"
  },
  "language_info": {
   "codemirror_mode": {
    "name": "ipython",
    "version": 3
   },
   "file_extension": ".py",
   "mimetype": "text/x-python",
   "name": "python",
   "nbconvert_exporter": "python",
   "pygments_lexer": "ipython3",
   "version": "3.7.7"
  }
 },
 "nbformat": 4,
 "nbformat_minor": 4
}
